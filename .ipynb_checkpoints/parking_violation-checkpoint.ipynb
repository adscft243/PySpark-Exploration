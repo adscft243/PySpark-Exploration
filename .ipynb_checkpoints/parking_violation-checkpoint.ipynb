{
 "cells": [
  {
   "cell_type": "code",
   "execution_count": 3,
   "id": "9d3abb02-9d99-431e-800c-ff1a5e19c221",
   "metadata": {},
   "outputs": [],
   "source": [
    "from pyspark import SparkContext\n",
    "from pyspark.sql import SparkSession"
   ]
  },
  {
   "cell_type": "code",
   "execution_count": 4,
   "id": "87b81df5-d188-4f92-a676-cc86ceb4d332",
   "metadata": {},
   "outputs": [],
   "source": [
    "spark = SparkSession.builder.getOrCreate()"
   ]
  },
  {
   "cell_type": "code",
   "execution_count": 5,
   "id": "a097e379-7d83-4a7a-81c7-8b62c1e8d2f8",
   "metadata": {},
   "outputs": [],
   "source": [
    "df = spark.read.format(\"csv\").option(\"header\", \"true\").option(\"inferSchema\", \"true\").load(\"parking_violation.csv\")"
   ]
  },
  {
   "cell_type": "code",
   "execution_count": 4,
   "id": "dcc37685-8597-4cb7-b9dc-fe1babb7b484",
   "metadata": {},
   "outputs": [
    {
     "name": "stdout",
     "output_type": "stream",
     "text": [
      "root\n",
      " |-- _c0: integer (nullable = true)\n",
      " |-- Summons_Number: long (nullable = true)\n",
      " |-- Plate_ID: string (nullable = true)\n",
      " |-- Registration_State: string (nullable = true)\n",
      " |-- Plate_Type: string (nullable = true)\n",
      " |-- Issue_Date: string (nullable = true)\n",
      " |-- Violation_Code: integer (nullable = true)\n",
      " |-- Vehicle_Body_Type: string (nullable = true)\n",
      " |-- Vehicle_Make: string (nullable = true)\n",
      " |-- Issuing_Agency: string (nullable = true)\n",
      " |-- Street_Code1: integer (nullable = true)\n",
      " |-- Street_Code2: integer (nullable = true)\n",
      " |-- Street_Code3: integer (nullable = true)\n",
      " |-- Vehicle_Expiration_Date: string (nullable = true)\n",
      " |-- Violation_Location: double (nullable = true)\n",
      " |-- Violation_Precinct: integer (nullable = true)\n",
      " |-- Issuer_Precinct: integer (nullable = true)\n",
      " |-- Issuer_Code: integer (nullable = true)\n",
      " |-- Issuer_Command: string (nullable = true)\n",
      " |-- Issuer_Squad: string (nullable = true)\n",
      " |-- Violation_Time: string (nullable = true)\n",
      " |-- Time_First_Observed: string (nullable = true)\n",
      " |-- Violation_County: string (nullable = true)\n",
      " |-- Violation_In_Front_Of_Or_Opposite: string (nullable = true)\n",
      " |-- House_Number: string (nullable = true)\n",
      " |-- Street_Name: string (nullable = true)\n",
      " |-- Intersecting_Street: string (nullable = true)\n",
      " |-- Date_First_Observed: string (nullable = true)\n",
      " |-- Law_Section: double (nullable = true)\n",
      " |-- Sub_Division: string (nullable = true)\n",
      " |-- Violation_Legal_Code: string (nullable = true)\n",
      " |-- Days_Parking_In_Effect____: string (nullable = true)\n",
      " |-- From_Hours_In_Effect: string (nullable = true)\n",
      " |-- To_Hours_In_Effect: string (nullable = true)\n",
      " |-- Vehicle_Color: string (nullable = true)\n",
      " |-- Unregistered_Vehicle?: double (nullable = true)\n",
      " |-- Vehicle_Year: double (nullable = true)\n",
      " |-- Meter_Number: string (nullable = true)\n",
      " |-- Feet_From_Curb: double (nullable = true)\n",
      " |-- Violation_Post_Code: string (nullable = true)\n",
      " |-- Violation_Description: string (nullable = true)\n",
      " |-- No_Standing_or_Stopping_Violation: string (nullable = true)\n",
      " |-- Hydrant_Violation: string (nullable = true)\n",
      " |-- Double_Parking_Violation: string (nullable = true)\n",
      " |-- Latitude: string (nullable = true)\n",
      " |-- Longitude: string (nullable = true)\n",
      " |-- Community_Board: string (nullable = true)\n",
      " |-- Community_Council_: string (nullable = true)\n",
      " |-- Census_Tract: string (nullable = true)\n",
      " |-- BIN: string (nullable = true)\n",
      " |-- BBL: string (nullable = true)\n",
      " |-- NTA: string (nullable = true)\n",
      " |-- year: integer (nullable = true)\n",
      " |-- month: integer (nullable = true)\n",
      "\n"
     ]
    }
   ],
   "source": [
    "df.printSchema()"
   ]
  },
  {
   "cell_type": "markdown",
   "id": "7cea8b36-af12-4f98-a651-c41651286a7b",
   "metadata": {},
   "source": [
    "### Select unique Registration_State from table using spark and spark.sql. To use spark.sql, the dataframe needs to be converted to a table."
   ]
  },
  {
   "cell_type": "code",
   "execution_count": 20,
   "id": "5a56bd90-d6ba-4f22-bd41-5a771d9bbb8f",
   "metadata": {},
   "outputs": [
    {
     "name": "stdout",
     "output_type": "stream",
     "text": [
      "+------------------+\n",
      "|Registration_State|\n",
      "+------------------+\n",
      "|                AZ|\n",
      "|                SC|\n",
      "|                NS|\n",
      "|                LA|\n",
      "|                MN|\n",
      "|                NJ|\n",
      "|                DC|\n",
      "|                OR|\n",
      "|                99|\n",
      "|                VA|\n",
      "|                RI|\n",
      "|                KY|\n",
      "|                WY|\n",
      "|                BC|\n",
      "|                NH|\n",
      "|                MI|\n",
      "|                NV|\n",
      "|                GV|\n",
      "|                QB|\n",
      "|                WI|\n",
      "+------------------+\n",
      "only showing top 20 rows\n",
      "\n"
     ]
    }
   ],
   "source": [
    "df.select('Registration_State').distinct().show()"
   ]
  },
  {
   "cell_type": "code",
   "execution_count": 11,
   "id": "f9696c8f-df99-4013-bfe7-9c372921aaf7",
   "metadata": {},
   "outputs": [],
   "source": [
    "df.createOrReplaceTempView(\"df_table\")"
   ]
  },
  {
   "cell_type": "code",
   "execution_count": 24,
   "id": "25f5b12c-37f5-405b-bae0-517879b8c9c1",
   "metadata": {},
   "outputs": [
    {
     "name": "stdout",
     "output_type": "stream",
     "text": [
      "+------------------+\n",
      "|Registration_State|\n",
      "+------------------+\n",
      "|                AZ|\n",
      "|                SC|\n",
      "|                NS|\n",
      "|                LA|\n",
      "|                MN|\n",
      "|                NJ|\n",
      "|                DC|\n",
      "|                OR|\n",
      "|                99|\n",
      "|                VA|\n",
      "|                RI|\n",
      "|                KY|\n",
      "|                WY|\n",
      "|                BC|\n",
      "|                NH|\n",
      "|                MI|\n",
      "|                NV|\n",
      "|                GV|\n",
      "|                QB|\n",
      "|                WI|\n",
      "+------------------+\n",
      "only showing top 20 rows\n",
      "\n"
     ]
    }
   ],
   "source": [
    "spark.sql(\"\"\" SELECT DISTINCT Registration_State FROM df_table \"\"\").show()"
   ]
  },
  {
   "cell_type": "markdown",
   "id": "912d73c5-6c89-4b03-8348-259ae2d60aa8",
   "metadata": {},
   "source": [
    "### Select the number of entries from each Registration_State"
   ]
  },
  {
   "cell_type": "code",
   "execution_count": 8,
   "id": "801800da-662a-4529-8022-2ffd4cbc38e7",
   "metadata": {},
   "outputs": [
    {
     "name": "stdout",
     "output_type": "stream",
     "text": [
      "+------------------+-------+\n",
      "|Registration_State|  count|\n",
      "+------------------+-------+\n",
      "|                AZ|  30015|\n",
      "|                SC|  25418|\n",
      "|                NS|    858|\n",
      "|                LA|   3577|\n",
      "|                MN|  18550|\n",
      "|                NJ|1080414|\n",
      "|                DC|   4600|\n",
      "|                OR|   6177|\n",
      "|                99|  45242|\n",
      "|                VA|  81464|\n",
      "|                RI|  15915|\n",
      "|                KY|   4664|\n",
      "|                WY|    347|\n",
      "|                BC|    294|\n",
      "|                NH|  10327|\n",
      "|                MI|  19725|\n",
      "|                NV|   2479|\n",
      "|                GV|   1560|\n",
      "|                QB|   6359|\n",
      "|                WI|   5438|\n",
      "+------------------+-------+\n",
      "only showing top 20 rows\n",
      "\n"
     ]
    }
   ],
   "source": [
    "df.groupBy('Registration_State').count().show()"
   ]
  },
  {
   "cell_type": "code",
   "execution_count": 20,
   "id": "cc3ba143-c0cd-4d0f-a35f-73a1b1debd63",
   "metadata": {},
   "outputs": [
    {
     "name": "stdout",
     "output_type": "stream",
     "text": [
      "+------------------+-------+\n",
      "|Registration_State|   quan|\n",
      "+------------------+-------+\n",
      "|                AZ|  30015|\n",
      "|                SC|  25418|\n",
      "|                NS|    827|\n",
      "|                LA|   3577|\n",
      "|                MN|  18550|\n",
      "|                NJ|1080413|\n",
      "|                DC|   4600|\n",
      "|                OR|   6177|\n",
      "|                99|  45238|\n",
      "|                VA|  81464|\n",
      "|                RI|  15915|\n",
      "|                KY|   4664|\n",
      "|                WY|    347|\n",
      "|                BC|    294|\n",
      "|                NH|  10327|\n",
      "|                MI|  19725|\n",
      "|                NV|   2479|\n",
      "|                GV|   1560|\n",
      "|                QB|   6359|\n",
      "|                WI|   5438|\n",
      "+------------------+-------+\n",
      "only showing top 20 rows\n",
      "\n"
     ]
    }
   ],
   "source": [
    "# Use count function\n",
    "from pyspark.sql.functions import count\n",
    "\n",
    "df.groupby('Registration_State').agg(count(\"Plate_ID\").alias(\"quan\")).show()"
   ]
  },
  {
   "cell_type": "code",
   "execution_count": 13,
   "id": "dc2345bd-ea8f-482f-a9d2-569d7a44da60",
   "metadata": {},
   "outputs": [
    {
     "name": "stdout",
     "output_type": "stream",
     "text": [
      "+------------------+-------+\n",
      "|Registration_State|  count|\n",
      "+------------------+-------+\n",
      "|                AZ|  30015|\n",
      "|                SC|  25418|\n",
      "|                NS|    858|\n",
      "|                LA|   3577|\n",
      "|                MN|  18550|\n",
      "|                NJ|1080414|\n",
      "|                DC|   4600|\n",
      "|                OR|   6177|\n",
      "|                99|  45242|\n",
      "|                VA|  81464|\n",
      "|                RI|  15915|\n",
      "|                KY|   4664|\n",
      "|                WY|    347|\n",
      "|                BC|    294|\n",
      "|                NH|  10327|\n",
      "|                MI|  19725|\n",
      "|                NV|   2479|\n",
      "|                GV|   1560|\n",
      "|                QB|   6359|\n",
      "|                WI|   5438|\n",
      "+------------------+-------+\n",
      "only showing top 20 rows\n",
      "\n"
     ]
    }
   ],
   "source": [
    "spark.sql(\"\"\"SELECT Registration_State, COUNT(*) AS count FROM df_table GROUP BY Registration_State\"\"\").show()"
   ]
  },
  {
   "cell_type": "code",
   "execution_count": null,
   "id": "5ae265a9-c08b-41a1-8da9-dd29cde571c1",
   "metadata": {},
   "outputs": [],
   "source": []
  }
 ],
 "metadata": {
  "kernelspec": {
   "display_name": "Python 3 (ipykernel)",
   "language": "python",
   "name": "python3"
  },
  "language_info": {
   "codemirror_mode": {
    "name": "ipython",
    "version": 3
   },
   "file_extension": ".py",
   "mimetype": "text/x-python",
   "name": "python",
   "nbconvert_exporter": "python",
   "pygments_lexer": "ipython3",
   "version": "3.10.4"
  }
 },
 "nbformat": 4,
 "nbformat_minor": 5
}
